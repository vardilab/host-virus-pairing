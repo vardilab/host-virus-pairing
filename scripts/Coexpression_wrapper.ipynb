{
 "cells": [
  {
   "cell_type": "code",
   "execution_count": 1,
   "metadata": {},
   "outputs": [
    {
     "name": "stdout",
     "output_type": "stream",
     "text": [
      "/Users/amirf/Dropbox (Weizmann Institute)/scripts/single_cell_metag/working_scripts\r\n"
     ]
    }
   ],
   "source": [
    "'''\n",
    "Host-virus coexpression plot wrapper\n",
    "Takes as an input the homology search for the virus and the host and overlay the results on a UMAP projection of\n",
    "single-cell gene expression.\n",
    "Returns two scatter plots: \n",
    "1. UMAP projections of all annotated cells captured. \n",
    "2. A close up view on a region of high diversity in the UMAP projection, with infected cells highlighted.\n",
    "Also looks at the subpopulation of infected Katablepharidaceae and return \n",
    "the barcodes of infected Katablepharidaceae cells from bag 4 day 20\n",
    "\n",
    "'''"
   ]
  },
  {
   "cell_type": "markdown",
   "metadata": {},
   "source": [
    "# Host-virus coexpression wrapper"
   ]
  },
  {
   "cell_type": "code",
   "execution_count": 2,
   "metadata": {},
   "outputs": [],
   "source": [
    "import pandas as pd\n",
    "import scprep\n",
    "import sys\n",
    "import matplotlib.pyplot as plt\n",
    "from math import isnan\n",
    "import nbimporter\n",
    "%matplotlib qt"
   ]
  },
  {
   "cell_type": "code",
   "execution_count": 3,
   "metadata": {},
   "outputs": [],
   "source": [
    "# import annotation functions from sankey plot wrapper\n",
    "import sankey_wrapper"
   ]
  },
  {
   "cell_type": "code",
   "execution_count": 4,
   "metadata": {},
   "outputs": [],
   "source": [
    "# import annotation functions from the sankey wrapper\n",
    "lenset = sankey_wrapper.lenset\n",
    "dedup_data = sankey_wrapper.dedup_data\n",
    "dedup_cells = sankey_wrapper.dedup_cells\n",
    "annotation_data = sankey_wrapper.annotation_data\n",
    "replace = sankey_wrapper.replace\n",
    "replacement_process = sankey_wrapper.replacement_process"
   ]
  },
  {
   "cell_type": "code",
   "execution_count": null,
   "metadata": {},
   "outputs": [],
   "source": []
  },
  {
   "cell_type": "code",
   "execution_count": 5,
   "metadata": {},
   "outputs": [],
   "source": [
    "# Annotate the cells based on 18s rRNA homology according to blast results.\n",
    "def annotate(path,\n",
    "             metapr2_file,\n",
    "             pr2_file,\n",
    "            replacement_file):\n",
    "\n",
    "    names_df = pd.read_table(path+ replacement_file, sep = \"\\t\")\n",
    "    dict_colors = dict(zip(names_df[\"new_name\"],names_df[\"color\"]))\n",
    "    dict_colors['Other eukaryotes'] = \"#797979\"\n",
    "    metapr2_data = dedup_data(path = path,\n",
    "        file = metapr2_file , data_type = \"metapr2\",replacement_df = names_df)\n",
    "\n",
    "    pr2_data = dedup_data(path = path,\n",
    "        file = pr2_file , data_type = \"pr2\",replacement_df = names_df)\n",
    "\n",
    "    data_annotations = annotation_data(pr2_data,metapr2_data)\n",
    "    data_annotations['cell_name'] = data_annotations['cell']\n",
    "    \n",
    "    return data_annotations,dict_colors"
   ]
  },
  {
   "cell_type": "code",
   "execution_count": 6,
   "metadata": {},
   "outputs": [],
   "source": [
    "# The sample names as sppear in the UMI tables are different than \n",
    "# the standardized names of the appear in in the paper, this is a standardization function\n",
    "def edit_annotations(data_annotations):\n",
    "    \n",
    "    dict_samples = {\"Mes_1_S1\": \"B7T16\",\n",
    "    \"Mes_2_S2\": \"B7T18\",\n",
    "    \"Mes_3_S3\": \"B4T13\",\n",
    "    \"Mes_4_S4\": \"B4T15\",\n",
    "    \"Mes_5_S5\": \"B4T20\",\n",
    "    \"Mes_6_S6\": \"B3T15\",\n",
    "    \"Mes_7_S7\": \"B3T20\",\n",
    "    \"Mes_8_S8\": \"B6T17\",\n",
    "    \"B7_S3\": \"B7T17\",\n",
    "    \"B4_S4\": \"B4T19\"}\n",
    "\n",
    "    data_annotations['barcode'] =  data_annotations['cell_name'].str.split(\".\", expand = True)[0]\n",
    "    data_annotations['Sample'] =  data_annotations['cell_name'].str.split(\".\", expand = True)[1]\n",
    "    data_annotations['Bag/Day'] = data_annotations['Sample'].map(dict_samples)\n",
    "    data_annotations['cell_name'] = data_annotations['barcode']+ \"-1.\" + data_annotations['Bag/Day']\n",
    "    return data_annotations"
   ]
  },
  {
   "cell_type": "markdown",
   "metadata": {},
   "source": [
    "### Find viral contigs and measure viral expression"
   ]
  },
  {
   "cell_type": "code",
   "execution_count": 7,
   "metadata": {},
   "outputs": [],
   "source": [
    "def annotation_dictionary(annotations):\n",
    "    dict_contigs_percell = dict(zip(annotations.cell_name,annotations[\"Annotation\"]))\n",
    "\n",
    "    clean_dict = {k: dict_contigs_percell[k] for k in dict_contigs_percell if not pd.isna(dict_contigs_percell[k])}\n",
    "    clean_dict = {k: clean_dict[k] for k in clean_dict if not pd.isna(k)}\n",
    "    return clean_dict\n",
    "\n",
    "def get_viral_contigs(path_blastx):\n",
    "    columns = [\"qseqid\",\"sseqid\",\"pident\",\"evalue\",\"bitscore\",\"Domain\",\"Supergroup\",\"Family\",\"Genus\",\"Species\",\"cell_barcode\"]\n",
    "    blastx_results = pd.read_table(path_blastx, sep = \"\\t\",index_col = None, header = None, names = columns )\n",
    "    viral_contigs = list(blastx_results[blastx_results['Domain'] == 'Viruses']['qseqid'])\n",
    "    return viral_contigs\n",
    "\n",
    "def viral_expression(data,metadata,viral_contigs):\n",
    "    series_df = data[[x for x in data.columns if x in viral_contigs]].sum(axis = 1) >= 10\n",
    "    virus_cells = data[series_df].index\n",
    "    return virus_cells"
   ]
  },
  {
   "cell_type": "markdown",
   "metadata": {},
   "source": [
    "Load data"
   ]
  },
  {
   "cell_type": "code",
   "execution_count": 8,
   "metadata": {},
   "outputs": [],
   "source": [
    "def load_data(path,file, df_type):\n",
    "    if df_type == \"data\":\n",
    "        df = pd.read_pickle(path+file)\n",
    "    #data_magic = pd.read_pickle(path+\"/data_magic_nd.gz\")\n",
    "    elif df_type == \"metadata\":\n",
    "        df = pd.read_pickle(path+file)\n",
    "    elif df_type == \"blast\":\n",
    "        df = pd.read_table(path+file, sep = \"\\t\")\n",
    "    #wells_cells = pd.read_table(path+\"/wells_cells.txt\")\n",
    "    else:\n",
    "        sys.exit(\"No data type found\")\n",
    "    return df"
   ]
  },
  {
   "cell_type": "code",
   "execution_count": 9,
   "metadata": {},
   "outputs": [],
   "source": [
    "def sort_legend(handles, labels, to_end):\n",
    "\n",
    "\n",
    "    handles = list(pd.DataFrame(labels,handles).sort_values(by = 0,ascending = True).index)\n",
    "    labels = list(pd.DataFrame(labels,handles).sort_values(by = 0,ascending = True).iloc[:,0])\n",
    "    \n",
    "    for i in to_end:\n",
    "        others_idx = labels.index(i)\n",
    "        labels_poped = labels.pop(others_idx)\n",
    "        handles_poped = handles.pop(others_idx)\n",
    "        labels.insert(len(labels),labels_poped)\n",
    "        handles.insert(len(labels),handles_poped)\n",
    "    \n",
    "    \n",
    "    return(handles, labels )"
   ]
  },
  {
   "cell_type": "code",
   "execution_count": 10,
   "metadata": {},
   "outputs": [],
   "source": [
    "def virus_host_coexpression_cells_small(metadata_n,dim,virus_cells,dict_colors):\n",
    "    fig, ax = plt.subplots(figsize=(6,6), dpi = 300)\n",
    "    print(\"Removing unidentified cells...\")\n",
    "    metadata_n = metadata_n[metadata_n['host'] != 'Unknown']\n",
    "    print(\"Subsetting the data...\")\n",
    "    metadata_n = metadata_n[(metadata_n['UMAP2'] < 0.8) & (metadata_n['UMAP1'] > -0.5)]\n",
    "    print(\"n = \",metadata_n.shape[0])\n",
    "    print(\"splitting data into highly and lowly infected cells...\")\n",
    "    \n",
    "    metadata_n1, metadata_n2 = metadata_n[~metadata_n.index.isin(virus_cells)],metadata_n[metadata_n.index.isin(virus_cells)]\n",
    "    print(\"n infected = \",metadata_n2.shape[0])\n",
    "    \n",
    "    print(\"n katablepharidacea = \",metadata_n[metadata_n['host'] == 'Katablepharidaceae'].shape[0])\n",
    "    dim = dim\n",
    "\n",
    "    dict_colors_n = {your_key: dict_colors[your_key] for your_key in set(metadata_n['host']) }\n",
    "    scprep.plot.scatter2d(metadata_n1[['{}1'.format(dim),'{}2'.format(dim)]], \n",
    "                          c=metadata_n1['host'].map(dict_colors_n), \n",
    "                          s=10, \n",
    "                          ticks=False, \n",
    "                           legend_title='Predicted host',\n",
    "                          legend = False,\n",
    "                          ax=ax)\n",
    "    \n",
    "    scprep.plot.scatter2d(metadata_n2[['{}1'.format(dim),'{}2'.format(dim)]], \n",
    "                          c=metadata_n2['host'].map(dict_colors_n), \n",
    "                          s = 60,\n",
    "                          vmin = 0,\n",
    "                          vmax = 1,\n",
    "                          ticks=False, \n",
    "                          xlabel=None, ylabel=None,\n",
    "                          edgecolor = \"black\",\n",
    "                          linewidths = 1,\n",
    "                          legend=False, \n",
    "                          ax=ax)\n",
    "    \n",
    "    ax.invert_yaxis()\n",
    "    ax.invert_xaxis()\n",
    "    \n",
    "    plt.tight_layout()\n",
    "    plt.show()\n",
    "    \n"
   ]
  },
  {
   "cell_type": "code",
   "execution_count": 11,
   "metadata": {},
   "outputs": [],
   "source": [
    "# threshold for UMIs\n",
    "def virus_host_coexpression_cells(metadata_n,dim,virus_cells,dict_colors):\n",
    "    fig, ax = plt.subplots(figsize=(6,6), dpi = 300)\n",
    "    print(\"Removing unidentified cells...\")\n",
    "    metadata_n = metadata_n[metadata_n['host'] != 'Unknown']\n",
    "    print(\"n = \",metadata_n.shape[0])\n",
    "   \n",
    "    dict_colors_n = {your_key: dict_colors[your_key] for your_key in set(metadata_n['host']) }\n",
    "    scprep.plot.scatter2d(metadata_n[['{}1'.format(dim),'{}2'.format(dim)]], \n",
    "                          c=metadata_n['host'].map(dict_colors_n), \n",
    "                          s=2, \n",
    "                          ticks=False, \n",
    "                         \n",
    "                           legend_title='Predicted host',\n",
    "                    \n",
    "                          ax=ax)\n",
    "    \n",
    "   \n",
    "    markers = [plt.Line2D([0,0],[0,0],color=color, marker='o', linestyle='') for color in dict_colors_n.values()]\n",
    "    handles, labels = sort_legend(markers, dict_colors_n.keys(),['Other eukaryotes'])\n",
    "    ax.legend(handles, labels, \n",
    "              numpoints=1,\n",
    "              title = 'Predicted host',\n",
    "              title_fontsize = 12,\n",
    "            loc='upper left',\n",
    "            bbox_to_anchor=(-0.02, 1),\n",
    "              fontsize = 12,\n",
    "               frameon=False,\n",
    "              handletextpad = 0.3,\n",
    "              labelspacing = 0.2,\n",
    "             )\n",
    "    ax.invert_yaxis()\n",
    "    ax.invert_xaxis()\n",
    "    \n",
    "    plt.tight_layout()\n",
    "    plt.show()\n",
    "    \n"
   ]
  },
  {
   "cell_type": "code",
   "execution_count": 12,
   "metadata": {},
   "outputs": [],
   "source": [
    "def find_kata_cells(path, metadata, name_file,virus_cells):\n",
    "    kata_b4t20 = metadata.loc[[x for x in metadata.index if x in virus_cells]][(metadata['sample'] == 'B4T20') & (metadata['host'] == 'Katablepharidaceae')]\n",
    "    kata_b4t20_cells = kata_b4t20.index.str.split(\"-\").str[0]\n",
    "    with open(path+name_file, 'w') as f:\n",
    "        for line in kata_b4t20_cells:\n",
    "            f.write(\"%s\\n\" % line)"
   ]
  },
  {
   "cell_type": "code",
   "execution_count": 13,
   "metadata": {},
   "outputs": [],
   "source": [
    "def main(path,\n",
    "         data_file,\n",
    "         data_raw_file,\n",
    "         metadata_file,\n",
    "        blastx_file,\n",
    "         metapr2_file,\n",
    "         pr2_file,\n",
    "        replacement_file,\n",
    "        out_file):\n",
    "\n",
    "    if 'data_raw' not in locals():\n",
    "        data_raw = load_data(path ,data_raw_file, \"data\")\n",
    "    if 'data' not in locals():\n",
    "        data = load_data(path ,data_file, \"data\")\n",
    "\n",
    "    metadata = load_data(path , metadata_file, \"metadata\")\n",
    "\n",
    "\n",
    "    # Annotate each cell based on the result of the blast search\n",
    "    data_annotations, dict_colors = annotate(path,\n",
    "        metapr2_file,\n",
    "        pr2_file,\n",
    "        replacement_file)\n",
    "\n",
    "    annotations = edit_annotations(data_annotations)\n",
    "\n",
    "    clean_dict = annotation_dictionary(annotations)\n",
    "\n",
    "    metadata['host'] = metadata.index.map(clean_dict).fillna('Unknown')\n",
    "\n",
    "    # Find infected cells as those expressing more than 10 viral UMIs\n",
    "    path_blastx = path + blastx_file\n",
    "\n",
    "    viral_contigs = get_viral_contigs(path_blastx)\n",
    "    virus_cells = viral_expression(data_raw,metadata,viral_contigs)\n",
    "\n",
    "    # plot figure 3a\n",
    "    virus_host_coexpression_cells(metadata,\"UMAP\",virus_cells,dict_colors)\n",
    "\n",
    "    # plot figure 3b as a subset of figure 3a\n",
    "    virus_host_coexpression_cells_small(metadata,\"UMAP\",virus_cells,dict_colors)\n",
    "    \n",
    "    find_kata_cells(path,metadata, out_file,virus_cells)"
   ]
  },
  {
   "cell_type": "code",
   "execution_count": 14,
   "metadata": {},
   "outputs": [
    {
     "name": "stdout",
     "output_type": "stream",
     "text": [
      "Subsetting metapr2 data\n",
      "Subsetting pr2 data\n",
      "Annotating cells\n",
      "Create a dataset for host\n",
      "n =  18793\n",
      "Create a dataset for host\n",
      "n =  612\n",
      "splitting data into highly and lowly infected cells\n",
      "n infected =  81\n",
      "n katablepharidacea =  37\n"
     ]
    },
    {
     "name": "stderr",
     "output_type": "stream",
     "text": [
      "/var/folders/__/xrq_mr6s10j48x2hntst32jw0000gp/T/ipykernel_28907/1120172455.py:2: UserWarning: Boolean Series key will be reindexed to match DataFrame index.\n",
      "  kata_b4t20 = metadata.loc[[x for x in metadata.index if x in virus_cells]][(metadata['sample'] == 'B4T20') & (metadata['host'] == 'Katablepharidaceae')]\n"
     ]
    }
   ],
   "source": [
    "'''\n",
    "Input:\n",
    "# path = Path for all the files\n",
    "# data_file = The combined processed UMI table\n",
    "# data_raw_file = The combined raw UMI table\n",
    "# metadata_file = Metadata containing the UMAP coordinated for all the cells\n",
    "# blastx_file = The virus homology results for the assembled transcripts (blastx)\n",
    "# metapr2_file = The host homology results for the assembled transcripts againt metapr2 database\n",
    "# pr2_file = The host homology results for the assembled transcripts againt pr2 database\n",
    "# replacement_file = A tab delimited file for replacing taxonomic names and assigning colors for each taxonomic group.\n",
    "Must contain most of the main groups present in the analysis (an inspection of the pr2 and metapr2 results is required)\n",
    "Contains the following columns:\n",
    "    old_name: The taxonomic name to replace (For example: Bacillariophyta)\n",
    "    level: The taxonomic level of the old name (For example: Class)\n",
    "    new_name: The new name to use in the plot (For example: Diatoms)\n",
    "    color: The color assigned to the taxonomic group in the Sankey plot (For example: #8C613C)\n",
    "\n",
    "# out_file = The name of the output file for the infected Katablepharidacea cells\n",
    "\n",
    "'''\n",
    "\n",
    "if __name__ == \"__main__\":\n",
    "    main(path = '/Users/amirf/Dropbox (Weizmann Institute)/scGVDB/pipeline_files/',\n",
    "         data_file = \"UMI_tables/data.pickle.gz\",\n",
    "         data_raw_file = \"UMI_tables/data_raw.pickle.gz\",\n",
    "         metadata_file = \"UMI_tables/metadata_dimentionality_reduction_clusters.pickle.gz\",\n",
    "        blastx_file = 'cells.filtered.blastx.tsv',\n",
    "         metapr2_file = 'summary_metapr2_all.tsv',\n",
    "         pr2_file = 'summary_pr2_all.tsv',\n",
    "        replacement_file = 'replacement_taxa_allcells.txt',\n",
    "        out_file = 'kata_cells.txt')\n",
    "  "
   ]
  },
  {
   "cell_type": "code",
   "execution_count": null,
   "metadata": {},
   "outputs": [],
   "source": []
  }
 ],
 "metadata": {
  "kernelspec": {
   "display_name": "Python 3 (ipykernel)",
   "language": "python",
   "name": "python3"
  },
  "language_info": {
   "codemirror_mode": {
    "name": "ipython",
    "version": 3
   },
   "file_extension": ".py",
   "mimetype": "text/x-python",
   "name": "python",
   "nbconvert_exporter": "python",
   "pygments_lexer": "ipython3",
   "version": "3.8.12"
  },
  "varInspector": {
   "cols": {
    "lenName": 16,
    "lenType": 16,
    "lenVar": 40
   },
   "kernels_config": {
    "python": {
     "delete_cmd_postfix": "",
     "delete_cmd_prefix": "del ",
     "library": "var_list.py",
     "varRefreshCmd": "print(var_dic_list())"
    },
    "r": {
     "delete_cmd_postfix": ") ",
     "delete_cmd_prefix": "rm(",
     "library": "var_list.r",
     "varRefreshCmd": "cat(var_dic_list()) "
    }
   },
   "types_to_exclude": [
    "module",
    "function",
    "builtin_function_or_method",
    "instance",
    "_Feature"
   ],
   "window_display": false
  }
 },
 "nbformat": 4,
 "nbformat_minor": 4
}
