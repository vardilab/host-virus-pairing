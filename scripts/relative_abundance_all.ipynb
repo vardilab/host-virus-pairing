{
 "cells": [
  {
   "cell_type": "code",
   "execution_count": 85,
   "id": "17dd7fed",
   "metadata": {},
   "outputs": [
    {
     "data": {
      "text/plain": [
       "'\\nRealtive abundance plots\\nGets the data from the mesocosm experiment and plot the relative abundance of all species as a stackplot\\nand the relative abundance of a specific taxon in a time course\\n'"
      ]
     },
     "execution_count": 85,
     "metadata": {},
     "output_type": "execute_result"
    }
   ],
   "source": [
    "'''\n",
    "Realtive abundance plots\n",
    "Gets the data from the mesocosm experiment and plot the relative abundance of all species as a stackplot\n",
    "and the relative abundance of a specific taxon in a time course\n",
    "'''"
   ]
  },
  {
   "cell_type": "code",
   "execution_count": 86,
   "id": "41f07ff7",
   "metadata": {},
   "outputs": [],
   "source": [
    "import pandas as pd\n",
    "import matplotlib.pyplot as plt\n",
    "import numpy as np\n",
    "%matplotlib qt"
   ]
  },
  {
   "cell_type": "code",
   "execution_count": 87,
   "id": "70a175ea",
   "metadata": {},
   "outputs": [],
   "source": [
    "def find_indices(list_to_check, item_to_find):\n",
    "    array = np.array(list_to_check)\n",
    "    indices = np.where(array == item_to_find)[0]\n",
    "    return list(indices)"
   ]
  },
  {
   "cell_type": "code",
   "execution_count": 88,
   "id": "542f8863",
   "metadata": {},
   "outputs": [],
   "source": [
    "def plot_relative_abundance(abundance, blue_dots, red_dots):\n",
    "    fig, ax = plt.subplots(figsize=(5,2), dpi = 300)\n",
    "    y = abundance.sort_index()\n",
    "    x = list(y.index)\n",
    "    x = [float(n) for n in x]\n",
    "    \n",
    "    markers_on=list(np.where(np.isin(x,blue_dots)))\n",
    "    markers_on2=list(np.where(np.isin(x,red_dots)))\n",
    "    ax = plt.plot(x,list(y),\n",
    "                   '-bo',  c='#D5BB67', mfc='blue', mec='k'\n",
    "         #         ,color = '#D5BB67'\n",
    "                  ,markevery=markers_on\n",
    "                 )\n",
    "    plt.plot(x,list(y),\n",
    "               '-bo',  linestyle='',c='#D5BB67', mfc='red', mec='k'\n",
    "     #         ,color = '#D5BB67'\n",
    "              ,markevery=markers_on2)\n",
    "    plt.xlabel(\"Time (days)\")\n",
    "    plt.ylabel(\"Relative abundance\")\n",
    "   # plt.ylim(0, 0.0)\n",
    "    plt.xlim(0,max(x))"
   ]
  },
  {
   "cell_type": "code",
   "execution_count": 89,
   "id": "48ebf49d",
   "metadata": {},
   "outputs": [],
   "source": [
    "def get_relative_abundance(abundance,taxonomy, taxa_dict):\n",
    "    #fig, ax = plt.subplots(figsize=(5,2), dpi = 300)\n",
    "    list_y = []\n",
    "    df = pd.DataFrame(index = abundance.index, columns = taxa_dict.keys())\n",
    "    for key,value in taxa_dict.items():\n",
    "        asv_data = list(taxonomy[taxonomy[value] ==key].index)\n",
    "        df[key] = abundance[asv_data].sum(axis = 1).sort_index()\n",
    "    return df"
   ]
  },
  {
   "cell_type": "code",
   "execution_count": 90,
   "id": "cd78dcfa",
   "metadata": {},
   "outputs": [],
   "source": [
    "dict_taxa = {'Bacillariophyta': 'Class',\n",
    "            'Labyrinthulea': 'Class',\n",
    "            'Katablepharidaceae': 'Class',\n",
    "            'Prymnesiophyceae': 'Class',\n",
    "            'Dinoflagellata': 'Division',\n",
    "            'Cercozoa': 'Division',\n",
    "            'Chrysophyceae': 'Class',\n",
    "            'MAST': 'Class',\n",
    "            'Ciliophora': 'Division'}\n"
   ]
  },
  {
   "cell_type": "code",
   "execution_count": 91,
   "id": "c41e8986",
   "metadata": {},
   "outputs": [],
   "source": [
    "dict_colors = {'Bacillariophyta': '#8C613C',\n",
    "                'Labyrinthulea':'black',\n",
    "                'Katablepharidaceae': '#D5BB67',\n",
    "                'Prymnesiophyceae': '#DC7EC0',\n",
    "                'Dinoflagellata': '#EE854A',\n",
    "                'Cercozoa': '#6ACC64',\n",
    "                'Chrysophyceae': '#4878D0',\n",
    "                'MAST': '#D65F5F',\n",
    "                'Ciliophora': '#82C6E2',\n",
    "                'Other eukaryotes': 'grey'}"
   ]
  },
  {
   "cell_type": "code",
   "execution_count": 92,
   "id": "54f23828",
   "metadata": {},
   "outputs": [],
   "source": [
    "def get_relative_abundances(ps_core_sample,ps_core_otu,ps_core_taxonomy,bag,taxa):\n",
    "    bag4_dict = ps_core_sample[ps_core_sample['Bag'] == bag]['TimePoint'].to_dict()\n",
    "    ps_core_otu_b4 = ps_core_otu.loc[bag4_dict.keys()]\n",
    "\n",
    "    # exclude the metazoans from the analysis\n",
    "    list_metazoa = list(ps_core_taxonomy[ps_core_taxonomy['Division'] =='Metazoa'].index)\n",
    "    ps_core_otu_nometazoa = ps_core_otu_b4.drop(list_metazoa, axis = 1)\n",
    "    relative_abundance_nometazoa = ps_core_otu_nometazoa.div(ps_core_otu_nometazoa.sum(axis=1), axis=0)\n",
    "    relative_abundance_nometazoa.index = relative_abundance_nometazoa.index.map(bag4_dict)\n",
    "\n",
    "    relative_all = get_relative_abundance(relative_abundance_nometazoa,ps_core_taxonomy, dict_taxa)\n",
    "    \n",
    "    relative_all['Other eukaryotes'] = 1-relative_all.sum(axis = 1)\n",
    "    relative_all = relative_all.sort_index()\n",
    "    relative_all = relative_all.iloc[:, ::-1]\n",
    "    # get the asv of the only the Katablepharidaceae\n",
    "    asv_taxa = list(ps_core_taxonomy[ps_core_taxonomy['Class'] == taxa].index)\n",
    "    \n",
    "    return relative_all, asv_taxa"
   ]
  },
  {
   "cell_type": "code",
   "execution_count": 93,
   "id": "5673982b",
   "metadata": {},
   "outputs": [],
   "source": [
    "def plot_all(relative_all):\n",
    "    fig, ax = plt.subplots(figsize=(5,2), dpi = 300)\n",
    "\n",
    "    # Define your time course with irregular time points and starting point\n",
    "    time_course = relative_all.index.tolist()\n",
    "\n",
    "\n",
    "    # Define your data as a list of lists, where each inner list corresponds to the frequency of a variable at each time point\n",
    "    data = relative_all.T.values.tolist()\n",
    "\n",
    "    # Create a stacked bar plot\n",
    "\n",
    "    for n in range(len(data)):\n",
    "        i = relative_all.columns[n]\n",
    "\n",
    "        bottom = np.sum(data[:n], axis=0)\n",
    "        ax.bar(time_course, list(relative_all[i]), color=dict_colors[i], bottom=bottom,width=0.4)\n",
    "\n",
    "    # Set the axis labels and title\n",
    "\n",
    "    # Set the x-axis limits and ticks\n",
    "    ax.set_xlim([-0.3, 24])\n",
    "    ax.set_ylim([0, 1])\n",
    "\n",
    "    ax.set_xticks([0,2, 4, 6, 8, 10, 12, 14, 16, 18, 20, 22, 24])\n",
    "    ax.set_xticklabels([0,2, 4, 6, 8, 10, 12, 14, 16, 18, 20, 22, 24])\n",
    "\n",
    "    ax.set_ylabel(\"Relative abundance\", fontsize = 10)\n",
    "    ax.set_xlabel(\"Time (days)\", fontsize = 10)\n",
    "    handles, labels = ax.get_legend_handles_labels()\n",
    "    ax.legend(handles[::-1], labels[::-1],\n",
    "            #  loc = 'upper center',\n",
    "       bbox_to_anchor=(0.028,1), \n",
    "               fontsize = 8,\n",
    "                  ncol = 3,\n",
    "              columnspacing = 0.5,\n",
    "                   frameon=False,\n",
    "                  handletextpad = 0.3,\n",
    "                  labelspacing = 0.2)\n",
    "\n",
    "    # Show the plot\n",
    "    return\n",
    "    plt.show()\n"
   ]
  },
  {
   "cell_type": "code",
   "execution_count": 94,
   "id": "89fcbb09",
   "metadata": {},
   "outputs": [],
   "source": [
    "\n",
    "def main():\n",
    "    # path to mesocosm files\n",
    "    path = '/Users/amirf/Dropbox (Weizmann Institute)/scGVDB/pipeline_files/'\n",
    "    # name of OTU file \n",
    "    ps_core_otu = pd.read_table(path + \"ps_core_otu_table.txt\", sep = \" \")\n",
    "    # name of the table containing sample names and what day and bag they represent\n",
    "    ps_core_sample = pd.read_table(path + \"ps_core_sample_data.txt\", sep = \" \")\n",
    "    # name of the table containing taxonomy data and their corresponding ASV number\n",
    "    ps_core_taxonomy = pd.read_table(path + \"ps_core_taxonomy_table.txt\", sep = \" \")\n",
    "    \n",
    "    bag = '4'\n",
    "    taxa = 'Katablepharidaceae'\n",
    "    \n",
    "    relative_all, asv_taxa = get_relative_abundances(ps_core_sample,ps_core_otu,ps_core_taxonomy,\n",
    "                                                     bag = bag,\n",
    "                                                     taxa = taxa)\n",
    "    \n",
    "    plot_all(relative_all)\n",
    "    \n",
    "    # plots the relative abundance of one taxon. mark sampling time points (for single-cell)\n",
    "    # as blue dots and an interesting time point in red\n",
    "    sampling_tp = [13,15,19]\n",
    "    interest_tp = [20]\n",
    "    \n",
    "    plot_relative_abundance(relative_all[taxa],sampling_tp,interest_tp)\n"
   ]
  },
  {
   "cell_type": "code",
   "execution_count": 95,
   "id": "bc8d515c",
   "metadata": {},
   "outputs": [
    {
     "name": "stderr",
     "output_type": "stream",
     "text": [
      "/var/folders/__/xrq_mr6s10j48x2hntst32jw0000gp/T/ipykernel_31240/3309163948.py:9: UserWarning: color is redundantly defined by the 'color' keyword argument and the fmt string \"-bo\" (-> color='b'). The keyword argument will take precedence.\n",
      "  ax = plt.plot(x,list(y),\n",
      "/var/folders/__/xrq_mr6s10j48x2hntst32jw0000gp/T/ipykernel_31240/3309163948.py:14: UserWarning: linestyle is redundantly defined by the 'linestyle' keyword argument and the fmt string \"-bo\" (-> linestyle='-'). The keyword argument will take precedence.\n",
      "  plt.plot(x,list(y),\n",
      "/var/folders/__/xrq_mr6s10j48x2hntst32jw0000gp/T/ipykernel_31240/3309163948.py:14: UserWarning: color is redundantly defined by the 'color' keyword argument and the fmt string \"-bo\" (-> color='b'). The keyword argument will take precedence.\n",
      "  plt.plot(x,list(y),\n"
     ]
    }
   ],
   "source": [
    "if __name__ == \"__main__\":\n",
    "    main()"
   ]
  }
 ],
 "metadata": {
  "kernelspec": {
   "display_name": "Python 3.8.12 64-bit ('py38': conda)",
   "language": "python",
   "name": "python3812jvsc74a57bd0729ad15c0d9079842309bfe42fda11c7f50194236bc52c4fc70752b7b174b0d3"
  },
  "language_info": {
   "codemirror_mode": {
    "name": "ipython",
    "version": 3
   },
   "file_extension": ".py",
   "mimetype": "text/x-python",
   "name": "python",
   "nbconvert_exporter": "python",
   "pygments_lexer": "ipython3",
   "version": "3.8.12"
  },
  "varInspector": {
   "cols": {
    "lenName": 16,
    "lenType": 16,
    "lenVar": 40
   },
   "kernels_config": {
    "python": {
     "delete_cmd_postfix": "",
     "delete_cmd_prefix": "del ",
     "library": "var_list.py",
     "varRefreshCmd": "print(var_dic_list())"
    },
    "r": {
     "delete_cmd_postfix": ") ",
     "delete_cmd_prefix": "rm(",
     "library": "var_list.r",
     "varRefreshCmd": "cat(var_dic_list()) "
    }
   },
   "types_to_exclude": [
    "module",
    "function",
    "builtin_function_or_method",
    "instance",
    "_Feature"
   ],
   "window_display": false
  }
 },
 "nbformat": 4,
 "nbformat_minor": 5
}
